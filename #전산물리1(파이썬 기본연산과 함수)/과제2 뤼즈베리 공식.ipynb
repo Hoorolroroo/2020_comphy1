{
 "cells": [
  {
   "cell_type": "code",
   "execution_count": 9,
   "metadata": {},
   "outputs": [
    {
     "name": "stdout",
     "output_type": "stream",
     "text": [
      "뤼즈베리 공식을 이용해 수소 원자의 가능한 파장을 구해보자.\n",
      "먼저 라이먼 계열의 가능한 파장을 구해보자.(자외선)\n"
     ]
    }
   ],
   "source": [
    "print(\"뤼즈베리 공식을 이용해 수소 원자의 가능한 파장을 구해보자.\")\n",
    "print(\"먼저 라이먼 계열의 가능한 파장을 구해보자.(자외선)\")"
   ]
  },
  {
   "cell_type": "code",
   "execution_count": 28,
   "metadata": {},
   "outputs": [
    {
     "name": "stdout",
     "output_type": "stream",
     "text": [
      "[1.215436037678517e-07, 1.0255241567912489e-07, 9.723488301428137e-08, 9.495594044363416e-08, 9.376220862091418e-08, 9.305682163476147e-08, 9.260465048979179e-08, 9.22971741112124e-08, 9.207848770291797e-08, 9.115770282597994e-08, 9.115770282588879e-08]\n"
     ]
    }
   ],
   "source": [
    "from math import*\n",
    "m=1\n",
    "n= [2,3,4,5,6,7,8,9,10,10**6,10**20]\n",
    "\n",
    "λ=[]\n",
    "for i in n:\n",
    "     λ.append(((1.097*10**7*(m-(i**-2)))**(-1)))\n",
    "\n",
    "print(λ)\n",
    "\n"
   ]
  },
  {
   "cell_type": "code",
   "execution_count": 29,
   "metadata": {},
   "outputs": [
    {
     "name": "stdout",
     "output_type": "stream",
     "text": [
      "결국 라이먼 계열은 n이 무한대로 가까워지면 91.15nm로 가까워지는 것으로 볼 수 있다.\n"
     ]
    }
   ],
   "source": [
    "print(\"결국 라이먼 계열은 n이 무한대로 가까워지면 91.15nm로 가까워지는 것으로 볼 수 있다.\")"
   ]
  },
  {
   "cell_type": "code",
   "execution_count": 30,
   "metadata": {},
   "outputs": [
    {
     "name": "stdout",
     "output_type": "stream",
     "text": [
      "이제 m=2인 발머 계열의 파장을 알아보자.\n"
     ]
    }
   ],
   "source": [
    "print(\"이제 m=2인 발머 계열의 파장을 알아보자.\")"
   ]
  },
  {
   "cell_type": "code",
   "execution_count": 37,
   "metadata": {},
   "outputs": [
    {
     "name": "stdout",
     "output_type": "stream",
     "text": [
      "[6.563354603463993e-07, 4.861744150714068e-07, 4.3408429917089897e-07, 4.1020966271649957e-07, 3.9704243897498227e-07, 3.889395320571255e-07, 3.8357267163101253e-07, 3.798237617745366e-07, 3.646308113050137e-07, 3.6463081130355515e-07]\n"
     ]
    }
   ],
   "source": [
    "from math import*\n",
    "m=2\n",
    "n= [3,4,5,6,7,8,9,10,10**6,10**20]\n",
    "\n",
    "λ=[]\n",
    "for i in n:\n",
    "     λ.append(((1.097*10**7*((m**-2)-(i**-2)))**(-1)))\n",
    "        \n",
    "print(λ)\n"
   ]
  },
  {
   "cell_type": "code",
   "execution_count": 38,
   "metadata": {},
   "outputs": [
    {
     "name": "stdout",
     "output_type": "stream",
     "text": [
      "n이 무한대로 갈 수록 발머 계열의 파장은(가시광선) 364nm로 가까워지는 것으로 알 수 있다.\n"
     ]
    }
   ],
   "source": [
    "print(\"n이 무한대로 갈 수록 발머 계열의 파장은(가시광선) 364nm로 가까워지는 것으로 알 수 있다.\")"
   ]
  },
  {
   "cell_type": "code",
   "execution_count": 56,
   "metadata": {},
   "outputs": [
    {
     "name": "stdout",
     "output_type": "stream",
     "text": [
      "[1.8752441724182837e-06, 1.2819051959890614e-06, 1.0938924339106654e-06, 1.005013673655424e-06, 9.546697605038535e-07, 9.229717411121242e-07, 9.015596982780209e-07, 8.204193254403829e-07, 8.204193254329991e-07]\n"
     ]
    }
   ],
   "source": [
    "from math import*\n",
    "m=3\n",
    "n= [4,5,6,7,8,9,10,10**6,10**20]\n",
    "\n",
    "λ=[]\n",
    "for i in n:\n",
    "     λ.append(((1.097*10**7*((m**-2)-(i**-2)))**(-1)))\n",
    "print(λ)\n"
   ]
  },
  {
   "cell_type": "code",
   "execution_count": 57,
   "metadata": {},
   "outputs": [
    {
     "name": "stdout",
     "output_type": "stream",
     "text": [
      "[4.051453458928391e-06, 2.625341841385597e-06, 2.1656860307726302e-06, 1.9446976602856273e-06, 1.8175443517284905e-06, 1.7363371966835959e-06, 1.4585232452375568e-06, 1.4585232452142206e-06]\n"
     ]
    }
   ],
   "source": [
    "from math import*\n",
    "m=4\n",
    "n= [5,6,7,8,9,10,10**6,10**20]\n",
    "\n",
    "λ=[]\n",
    "for i in n:\n",
    "     λ.append(((1.097*10**7*((m**-2)-(i**-2)))**(-1)))\n",
    "print(λ)\n"
   ]
  },
  {
   "cell_type": "code",
   "execution_count": 59,
   "metadata": {},
   "outputs": [
    {
     "name": "stdout",
     "output_type": "stream",
     "text": [
      "[7.4583575039363536e-06, 4.652841081738073e-06, 3.7398031928569757e-06, 3.296327646829014e-06, 3.038590094196293e-06, 2.278942570704193e-06, 2.2789425706472195e-06]\n"
     ]
    }
   ],
   "source": [
    "from math import*\n",
    "m=5\n",
    "n= [6,7,8,9,10,10**6,10**20]\n",
    "λ=[]\n",
    "for i in n:\n",
    "     λ.append(((1.097*10**7*((m**-2)-(i**-2)))**(-1)))\n",
    "print(λ)\n"
   ]
  },
  {
   "cell_type": "code",
   "execution_count": 61,
   "metadata": {},
   "outputs": [
    {
     "name": "stdout",
     "output_type": "stream",
     "text": [
      "[1.2369399060374448e-05, 7.500976689673135e-06, 5.907019143117594e-06, 5.1276207839562455e-06, 3.281677301850137e-06, 3.2816773017319965e-06]\n"
     ]
    }
   ],
   "source": [
    "from math import*\n",
    "m=6\n",
    "n= [7,8,9,10,10**6,10**20]\n",
    "λ=[]\n",
    "for i in n:\n",
    "     λ.append(((1.097*10**7*((m**-2)-(i**-2)))**(-1)))\n",
    "print(λ)\n"
   ]
  },
  {
   "cell_type": "code",
   "execution_count": 62,
   "metadata": {},
   "outputs": [
    {
     "name": "stdout",
     "output_type": "stream",
     "text": [
      "이런 식으로 m=3,4,5,6을 모두 구할 수 있다. 이 때의 파장은 모두 적외선일 때이다.\n"
     ]
    }
   ],
   "source": [
    "print(\"이런 식으로 m=3,4,5,6을 모두 구할 수 있다. 이 때의 파장은 모두 적외선일 때이다.\")"
   ]
  },
  {
   "cell_type": "code",
   "execution_count": null,
   "metadata": {},
   "outputs": [],
   "source": []
  }
 ],
 "metadata": {
  "kernelspec": {
   "display_name": "Python 3",
   "language": "python",
   "name": "python3"
  },
  "language_info": {
   "codemirror_mode": {
    "name": "ipython",
    "version": 3
   },
   "file_extension": ".py",
   "mimetype": "text/x-python",
   "name": "python",
   "nbconvert_exporter": "python",
   "pygments_lexer": "ipython3",
   "version": "3.7.6"
  }
 },
 "nbformat": 4,
 "nbformat_minor": 4
}

{
 "cells": [
  {
   "cell_type": "markdown",
   "metadata": {},
   "source": [
    "\n",
    "**파울리 행렬의 아이겐벨류와 아이겐벡터를 구하시오.**\n",
    "\n",
    "\n",
    "$$ s_x=\\begin{pmatrix} \n",
    "   0 & 1 \\\\\n",
    "   1 & 0 \n",
    "\\end{pmatrix}$$\n"
   ]
  },
  {
   "cell_type": "code",
   "execution_count": 2,
   "metadata": {},
   "outputs": [
    {
     "data": {
      "text/plain": [
       "(array([ 1., -1.]),\n",
       " array([[ 0.70710678, -0.70710678],\n",
       "        [ 0.70710678,  0.70710678]]))"
      ]
     },
     "execution_count": 2,
     "metadata": {},
     "output_type": "execute_result"
    }
   ],
   "source": [
    "import numpy as np\n",
    "s_x=np.array([[0, 1],[1, 0]])\n",
    "np.linalg.eig(s_x)"
   ]
  },
  {
   "cell_type": "markdown",
   "metadata": {},
   "source": [
    "$$s_y=\\begin{pmatrix} \n",
    "   0 & -j \\\\\n",
    "   j & 0 \n",
    "\\end{pmatrix}\n",
    "$$"
   ]
  },
  {
   "cell_type": "code",
   "execution_count": 3,
   "metadata": {},
   "outputs": [
    {
     "data": {
      "text/plain": [
       "(array([ 1.+0.j, -1.+0.j]),\n",
       " array([[-0.        -0.70710678j,  0.70710678+0.j        ],\n",
       "        [ 0.70710678+0.j        ,  0.        -0.70710678j]]))"
      ]
     },
     "execution_count": 3,
     "metadata": {},
     "output_type": "execute_result"
    }
   ],
   "source": [
    "s_y=np.array([[0,-1j],[1j,0]])\n",
    "np.linalg.eig(s_y)"
   ]
  },
  {
   "cell_type": "markdown",
   "metadata": {},
   "source": [
    "$$s_z=\\begin{pmatrix} \n",
    "   1 & 0 \\\\\n",
    "   0 & -1 \n",
    "\\end{pmatrix}\n",
    "$$"
   ]
  },
  {
   "cell_type": "code",
   "execution_count": 4,
   "metadata": {},
   "outputs": [
    {
     "data": {
      "text/plain": [
       "(array([ 1., -1.]),\n",
       " array([[1., 0.],\n",
       "        [0., 1.]]))"
      ]
     },
     "execution_count": 4,
     "metadata": {},
     "output_type": "execute_result"
    }
   ],
   "source": [
    "s_z=np.array([[1,0],[0,-1]])\n",
    "np.linalg.eig(s_z)"
   ]
  },
  {
   "cell_type": "markdown",
   "metadata": {},
   "source": [
    "## **Normal Modes II**"
   ]
  },
  {
   "cell_type": "code",
   "execution_count": 2,
   "metadata": {},
   "outputs": [],
   "source": [
    "import numpy as np\n",
    "size = 100\n",
    "d, k = 2, -1\n",
    "M = np.zeros((size, size))\n",
    "for i in range(1, size):\n",
    "    M[i, i - 1] = k\n",
    "    M[i, i] = d\n",
    "    M[i - 1, i] = k\n",
    "M[0, 0], M[size - 1, size - 1] = d, d"
   ]
  },
  {
   "cell_type": "code",
   "execution_count": 4,
   "metadata": {},
   "outputs": [
    {
     "data": {
      "text/plain": [
       "(array([3.99903256e+00, 3.99613119e+00, 3.99129870e+00, 3.98453974e+00,\n",
       "        3.97586088e+00, 3.96527050e+00, 1.90671922e+00, 1.96889638e+00,\n",
       "        2.03110362e+00, 2.09328078e+00, 3.95277884e+00, 1.84463231e+00,\n",
       "        2.15536769e+00, 1.78269570e+00, 2.21730430e+00, 3.93839800e+00,\n",
       "        1.65951289e+00, 1.59838585e+00, 2.34048711e+00, 2.40161415e+00,\n",
       "        2.46235264e+00, 1.53764736e+00, 1.47735615e+00, 2.52264385e+00,\n",
       "        3.90402622e+00, 2.58242942e+00, 3.88406853e+00, 1.41757058e+00,\n",
       "        3.86228812e+00, 2.64165154e+00, 3.83870608e+00, 2.70025290e+00,\n",
       "        9.67435416e-04, 3.86880573e-03, 8.70130406e-03, 1.35834846e+00,\n",
       "        1.54602553e-02, 2.75817681e+00, 3.81334520e+00, 2.41391205e-02,\n",
       "        1.29974710e+00, 3.78623003e+00, 3.47295036e-02, 2.87176884e+00,\n",
       "        1.24182319e+00, 2.92732706e+00, 4.72211589e-02, 6.16020016e-02,\n",
       "        3.03569925e+00, 1.01801184e+00, 1.07267294e+00, 3.75738680e+00,\n",
       "        3.08840837e+00, 1.15931473e-01, 9.59737849e-02, 9.64300750e-01,\n",
       "        1.37711876e-01, 3.14006452e+00, 3.19061773e+00, 1.61293922e-01,\n",
       "        9.11591634e-01, 3.24001909e+00, 8.59935484e-01, 1.86654798e-01,\n",
       "        2.13769968e-01, 8.09382271e-01, 3.38084004e+00, 3.42516793e+00,\n",
       "        3.72684341e+00, 3.46811706e+00, 2.42613200e-01, 3.50964588e+00,\n",
       "        3.33517628e+00, 7.59980905e-01, 5.31882942e-01, 5.74832072e-01,\n",
       "        4.90354122e-01, 4.50285786e-01, 3.54971421e+00, 6.19159959e-01,\n",
       "        2.73156590e-01, 2.98198816e+00, 3.58828330e+00, 4.11716698e-01,\n",
       "        3.62531583e+00, 3.69462941e+00, 6.64823720e-01, 3.74684172e-01,\n",
       "        1.12823116e+00, 3.92214188e+00, 3.05370590e-01, 3.66077597e+00,\n",
       "        3.39224034e-01, 7.78581192e-02, 3.28822082e+00, 7.11779177e-01,\n",
       "        2.81536723e+00, 1.18463277e+00, 2.27903068e+00, 1.72096932e+00]),\n",
       " array([[-0.00437636,  0.00874848,  0.01311214, ..., -0.12849426,\n",
       "         -0.13934326,  0.13934326],\n",
       "        [ 0.00874848, -0.01746312, -0.02611019, ..., -0.10477001,\n",
       "          0.03888104,  0.03888104],\n",
       "        [-0.01311214,  0.02611019,  0.03888104, ...,  0.04306823,\n",
       "          0.12849426, -0.12849426],\n",
       "        ...,\n",
       "        [ 0.01311214,  0.02611019, -0.03888104, ...,  0.04306823,\n",
       "          0.12849426,  0.12849426],\n",
       "        [-0.00874848, -0.01746312,  0.02611019, ..., -0.10477001,\n",
       "          0.03888104, -0.03888104],\n",
       "        [ 0.00437636,  0.00874848, -0.01311214, ..., -0.12849426,\n",
       "         -0.13934326, -0.13934326]]))"
      ]
     },
     "execution_count": 4,
     "metadata": {},
     "output_type": "execute_result"
    }
   ],
   "source": [
    "np.linalg.eig(M)"
   ]
  },
  {
   "cell_type": "code",
   "execution_count": 6,
   "metadata": {},
   "outputs": [],
   "source": [
    "ydata = np.array([3.99903256e+00, 3.99613119e+00, 3.99129870e+00, 3.98453974e+00,\n",
    "        3.97586088e+00, 3.96527050e+00, 1.90671922e+00, 1.96889638e+00,\n",
    "        2.03110362e+00, 2.09328078e+00, 3.95277884e+00, 1.84463231e+00,\n",
    "        2.15536769e+00, 1.78269570e+00, 2.21730430e+00, 3.93839800e+00,\n",
    "        1.65951289e+00, 1.59838585e+00, 2.34048711e+00, 2.40161415e+00,\n",
    "        2.46235264e+00, 1.53764736e+00, 1.47735615e+00, 2.52264385e+00,\n",
    "        3.90402622e+00, 2.58242942e+00, 3.88406853e+00, 1.41757058e+00,\n",
    "        3.86228812e+00, 2.64165154e+00, 3.83870608e+00, 2.70025290e+00,\n",
    "        9.67435416e-04, 3.86880573e-03, 8.70130406e-03, 1.35834846e+00,\n",
    "        1.54602553e-02, 2.75817681e+00, 3.81334520e+00, 2.41391205e-02,\n",
    "        1.29974710e+00, 3.78623003e+00, 3.47295036e-02, 2.87176884e+00,\n",
    "        1.24182319e+00, 2.92732706e+00, 4.72211589e-02, 6.16020016e-02,\n",
    "        3.03569925e+00, 1.01801184e+00, 1.07267294e+00, 3.75738680e+00,\n",
    "        3.08840837e+00, 1.15931473e-01, 9.59737849e-02, 9.64300750e-01,\n",
    "        1.37711876e-01, 3.14006452e+00, 3.19061773e+00, 1.61293922e-01,\n",
    "        9.11591634e-01, 3.24001909e+00, 8.59935484e-01, 1.86654798e-01,\n",
    "        2.13769968e-01, 8.09382271e-01, 3.38084004e+00, 3.42516793e+00,\n",
    "        3.72684341e+00, 3.46811706e+00, 2.42613200e-01, 3.50964588e+00,\n",
    "        3.33517628e+00, 7.59980905e-01, 5.31882942e-01, 5.74832072e-01,\n",
    "        4.90354122e-01, 4.50285786e-01, 3.54971421e+00, 6.19159959e-01,\n",
    "        2.73156590e-01, 2.98198816e+00, 3.58828330e+00, 4.11716698e-01,\n",
    "        3.62531583e+00, 3.69462941e+00, 6.64823720e-01, 3.74684172e-01,\n",
    "        1.12823116e+00, 3.92214188e+00, 3.05370590e-01, 3.66077597e+00,\n",
    "        3.39224034e-01, 7.78581192e-02, 3.28822082e+00, 7.11779177e-01,\n",
    "        2.81536723e+00, 1.18463277e+00, 2.27903068e+00, 1.72096932e+00])"
   ]
  },
  {
   "cell_type": "code",
   "execution_count": 8,
   "metadata": {},
   "outputs": [
    {
     "data": {
      "image/png": "[encoded data removed]",
      "text/plain": [
       "<Figure size 432x288 with 1 Axes>"
      ]
     },
     "metadata": {
      "needs_background": "light"
     },
     "output_type": "display_data"
    }
   ],
   "source": [
    "ydata.sort()\n",
    "xdata = []\n",
    "i=1\n",
    "for i in range(100):\n",
    "    xdata.append(i+1)\n",
    "    %matplotlib inline\n",
    "import matplotlib.pyplot as plt\n",
    "plt.plot(xdata, ydata);"
   ]
  },
  {
   "cell_type": "markdown",
   "metadata": {},
   "source": [
    "## **Normal Modes I**"
   ]
  },
  {
   "cell_type": "markdown",
   "metadata": {},
   "source": [
    "**두 개의 물체의 운동 방정식을 행렬화 해보자.**"
   ]
  },
  {
   "cell_type": "markdown",
   "metadata": {},
   "source": [
    "$$\\lambda\\begin{pmatrix} \n",
    "  x \\\\\n",
    "  y \n",
    "\\end{pmatrix} =\\begin{pmatrix} \n",
    "   2 & -1 \\\\\n",
    "   -1 & 2 \n",
    "\\end{pmatrix} \\begin{pmatrix} \n",
    "  x \\\\\n",
    "  y\n",
    "\\end{pmatrix}$$\n",
    "\n",
    "$$\\left(\\lambda=\\frac{m\\omega^2}{k}\\right)$$"
   ]
  },
  {
   "cell_type": "markdown",
   "metadata": {},
   "source": [
    "**이제 고유값을 구해보자.**"
   ]
  },
  {
   "cell_type": "markdown",
   "metadata": {},
   "source": [
    "$$\\begin{vmatrix}\n",
    "2-\\lambda & -1 \\\\ \n",
    "-1 & 2-\\lambda\n",
    "\\end{vmatrix}\n",
    "=0$$\n",
    "\n",
    "\n",
    "\n"
   ]
  },
  {
   "cell_type": "markdown",
   "metadata": {},
   "source": [
    "## $$\\lambda = 1, \\lambda = 3$$\n",
    "**이제 고유값을 위에 있는 정의에 대입하여 고유진동수를 구하자.**"
   ]
  },
  {
   "cell_type": "markdown",
   "metadata": {},
   "source": [
    "$$\\omega_1 = \\sqrt{\\frac{k}{m}},   \\omega_2 = \\sqrt{\\frac{3k}{m}}$$"
   ]
  },
  {
   "cell_type": "code",
   "execution_count": 1,
   "metadata": {},
   "outputs": [
    {
     "data": {
      "text/plain": [
       "(array([3., 1.]),\n",
       " array([[ 0.70710678,  0.70710678],\n",
       "        [-0.70710678,  0.70710678]]))"
      ]
     },
     "execution_count": 1,
     "metadata": {},
     "output_type": "execute_result"
    }
   ],
   "source": [
    "import numpy as np\n",
    "m=np.array([[2,-1],[-1,2]])\n",
    "np.linalg.eig(m)"
   ]
  },
  {
   "cell_type": "markdown",
   "metadata": {},
   "source": [
    "**고유벡터의 의미에 대해서 일아보자.**\n",
    "\n",
    "$\\lambda=1$인 경우에는 $r=(0.7,0.7)$이고, $\\lambda=3$인 경우에는 $r=(0.7,-0.7)$이다."
   ]
  },
  {
   "cell_type": "markdown",
   "metadata": {},
   "source": [
    "**고유벡터에 따른 운동 방향**\n",
    "\n",
    "전자인 경우에는 두 질량은 $\\rightarrow$$\\rightarrow$, 그리고 $\\leftarrow$$\\leftarrow$처럼 앞뒤로 같이 진동한다.(y=x인 경우)\n",
    "\n",
    "후자인 경우는 $\\leftarrow$$\\rightarrow$, 그리고 $\\rightarrow$$\\leftarrow$처럼 서로 반대로 진동한다.(y=-x인 경우)"
   ]
  }
 ],
 "metadata": {
  "kernelspec": {
   "display_name": "Python 3",
   "language": "python",
   "name": "python3"
  },
  "language_info": {
   "codemirror_mode": {
    "name": "ipython",
    "version": 3
   },
   "file_extension": ".py",
   "mimetype": "text/x-python",
   "name": "python",
   "nbconvert_exporter": "python",
   "pygments_lexer": "ipython3",
   "version": "3.7.6"
  }
 },
 "nbformat": 4,
 "nbformat_minor": 4
}

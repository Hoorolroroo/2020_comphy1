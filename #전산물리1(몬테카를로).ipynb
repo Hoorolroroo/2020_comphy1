{
 "cells": [
  {
   "cell_type": "markdown",
   "metadata": {},
   "source": [
    "## Hypersphere"
   ]
  },
  {
   "cell_type": "markdown",
   "metadata": {},
   "source": [
    "**먼저 2차원일 때의 상수를 구해보자. (r=1일 때의 원의 면적)**"
   ]
  },
  {
   "cell_type": "code",
   "execution_count": 2,
   "metadata": {},
   "outputs": [],
   "source": [
    "import random\n",
    "import numpy as np"
   ]
  },
  {
   "cell_type": "code",
   "execution_count": 19,
   "metadata": {},
   "outputs": [],
   "source": [
    "def circ2(n):\n",
    "    count=0\n",
    "    for i in range(n):\n",
    "        x, y = random.random(), random.random()\n",
    "        r=np.sqrt(x*x+y*y)\n",
    "        if r<1:              #(x,y는 0~1 사이에 분포하며)반지름이 1이 넘어가면 카운트 되지 않기 때문에, 반지름이 1인 원의 넓이를 구할 수 있다.\n",
    "            count+=1\n",
    "    return 4*count/n"
   ]
  },
  {
   "cell_type": "code",
   "execution_count": 20,
   "metadata": {},
   "outputs": [
    {
     "data": {
      "text/plain": [
       "3.140692"
      ]
     },
     "execution_count": 20,
     "metadata": {},
     "output_type": "execute_result"
    }
   ],
   "source": [
    "circ2(1000000)"
   ]
  },
  {
   "cell_type": "markdown",
   "metadata": {},
   "source": [
    "2차원에서는\n",
    "\n",
    "n=1000000으로 하면, $c_n\\approx\\pi$ 인 것을 알 수 있다.\n",
    "\n",
    "물론 무한대일 경우에는 $c_n=\\pi$일 것이다.\n",
    "\n",
    "앞으로 다른 차원에서도 n=1000000으로 고정해서 구해볼 것이다."
   ]
  },
  {
   "cell_type": "code",
   "execution_count": 26,
   "metadata": {},
   "outputs": [],
   "source": [
    "def circ3(n):\n",
    "    count=0\n",
    "    for i in range(n):\n",
    "        x, y,z= random.random(), random.random(), random.random()\n",
    "        r=np.sqrt(x*x+y*y+z*z)\n",
    "        if r<1:\n",
    "            count+=1\n",
    "    return 8*count/n"
   ]
  },
  {
   "cell_type": "code",
   "execution_count": 28,
   "metadata": {},
   "outputs": [
    {
     "data": {
      "text/plain": [
       "4.188264"
      ]
     },
     "execution_count": 28,
     "metadata": {},
     "output_type": "execute_result"
    }
   ],
   "source": [
    "circ3(1000000)"
   ]
  },
  {
   "cell_type": "code",
   "execution_count": 41,
   "metadata": {},
   "outputs": [
    {
     "data": {
      "text/plain": [
       "4.1887902047863905"
      ]
     },
     "execution_count": 41,
     "metadata": {},
     "output_type": "execute_result"
    }
   ],
   "source": [
    "np.pi*4/3 #대략 4/3과 같다."
   ]
  },
  {
   "cell_type": "markdown",
   "metadata": {},
   "source": [
    "3차원에서는\n",
    "$c_n\\approx\\frac{4}{3}\\pi$인 것을 알 수 있다."
   ]
  },
  {
   "cell_type": "code",
   "execution_count": 31,
   "metadata": {},
   "outputs": [],
   "source": [
    "def circ4(n):\n",
    "    count=0\n",
    "    for i in range(n):\n",
    "        x, y,z, w= random.random(), random.random(), random.random(), random.random()\n",
    "        r=np.sqrt(x*x+y*y+z*z+w*w)\n",
    "        if r<1:\n",
    "            count+=1\n",
    "    return 16*count/n"
   ]
  },
  {
   "cell_type": "code",
   "execution_count": 32,
   "metadata": {},
   "outputs": [
    {
     "data": {
      "text/plain": [
       "4.937264"
      ]
     },
     "execution_count": 32,
     "metadata": {},
     "output_type": "execute_result"
    }
   ],
   "source": [
    "circ4(1000000)"
   ]
  },
  {
   "cell_type": "code",
   "execution_count": 37,
   "metadata": {},
   "outputs": [
    {
     "data": {
      "text/plain": [
       "4.934802200544679"
      ]
     },
     "execution_count": 37,
     "metadata": {},
     "output_type": "execute_result"
    }
   ],
   "source": [
    "np.pi**2/2"
   ]
  },
  {
   "cell_type": "markdown",
   "metadata": {},
   "source": [
    "4차원에서는 $c_n\\approx\\frac{\\pi^2}{2}$이다."
   ]
  },
  {
   "cell_type": "code",
   "execution_count": 38,
   "metadata": {},
   "outputs": [],
   "source": [
    "def circ5(n):\n",
    "    count=0\n",
    "    for i in range(n):\n",
    "        x, y,z, w, q= random.random(), random.random(), random.random(), random.random(), random.random()\n",
    "        r=np.sqrt(x*x+y*y+z*z+w*w+q*q)\n",
    "        if r<1:\n",
    "            count+=1\n",
    "    return 32*count/n"
   ]
  },
  {
   "cell_type": "code",
   "execution_count": 39,
   "metadata": {},
   "outputs": [
    {
     "data": {
      "text/plain": [
       "5.263264"
      ]
     },
     "execution_count": 39,
     "metadata": {},
     "output_type": "execute_result"
    }
   ],
   "source": [
    "circ5(1000000)"
   ]
  },
  {
   "cell_type": "code",
   "execution_count": 40,
   "metadata": {},
   "outputs": [
    {
     "data": {
      "text/plain": [
       "5.263789013914324"
      ]
     },
     "execution_count": 40,
     "metadata": {},
     "output_type": "execute_result"
    }
   ],
   "source": [
    "8/15*np.pi**2"
   ]
  },
  {
   "cell_type": "markdown",
   "metadata": {},
   "source": [
    "5차원에서는 $c_n\\approx\\frac{8\\pi^2}{15}$이다."
   ]
  },
  {
   "cell_type": "markdown",
   "metadata": {},
   "source": [
    "## 결론\n",
    "\n",
    "따라서 우리는 감마 함수를 이용해서 n차원 구의 부피를 $$v_n(r)=\\frac{\\pi^\\frac{n}{2}}{\\Gamma(\\frac{n}{2}+1)}r^n$$로 도출해낼 수 있다."
   ]
  },
  {
   "cell_type": "markdown",
   "metadata": {},
   "source": [
    "$\\therefore$ $v_2(r)$=$\\pi$$r^2$"
   ]
  },
  {
   "cell_type": "markdown",
   "metadata": {},
   "source": [
    "$v_3(r)$=$\\frac{4\\pi}{3}r^3$"
   ]
  },
  {
   "cell_type": "markdown",
   "metadata": {},
   "source": [
    "$v_4(r)=\\frac{\\pi^2}{2}r^4$"
   ]
  },
  {
   "cell_type": "markdown",
   "metadata": {},
   "source": [
    "$v_5(r)=\\frac{8\\pi^2}{15}r^5$"
   ]
  },
  {
   "cell_type": "markdown",
   "metadata": {},
   "source": [
    "$v_6(r)=\\frac{\\pi^3}{6}r^6$"
   ]
  },
  {
   "cell_type": "markdown",
   "metadata": {},
   "source": [
    "$v_7(r)=\\frac{16\\pi^3}{105}r^7$\n",
    ".\n",
    ".\n",
    "."
   ]
  }
 ],
 "metadata": {
  "kernelspec": {
   "display_name": "Python 3",
   "language": "python",
   "name": "python3"
  },
  "language_info": {
   "codemirror_mode": {
    "name": "ipython",
    "version": 3
   },
   "file_extension": ".py",
   "mimetype": "text/x-python",
   "name": "python",
   "nbconvert_exporter": "python",
   "pygments_lexer": "ipython3",
   "version": "3.7.6"
  }
 },
 "nbformat": 4,
 "nbformat_minor": 4
}

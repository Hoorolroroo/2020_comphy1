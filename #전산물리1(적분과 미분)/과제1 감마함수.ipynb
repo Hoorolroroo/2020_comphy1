{
 "cells": [
  {
   "cell_type": "code",
   "execution_count": 1,
   "metadata": {},
   "outputs": [],
   "source": [
    "import numpy as np\n",
    "import matplotlib.pyplot as plt\n",
    "from scipy import integrate\n",
    "\n",
    "n,gam=[],[]\n",
    "num_dot=100\n",
    "a,b =  0,10\n",
    "dn= (b-a)/num_dot\n",
    "\n",
    "def gamma(x,n):\n",
    "    return x**(n-1)*np.exp(-x)\n",
    "\n",
    "def gammafunc(n):\n",
    "    return integrate.quad(gamma,0,np.inf,args=n)"
   ]
  },
  {
   "cell_type": "code",
   "execution_count": 2,
   "metadata": {},
   "outputs": [
    {
     "data": {
      "text/plain": [
       "(120.0, 2.2281808593837605e-07)"
      ]
     },
     "execution_count": 2,
     "metadata": {},
     "output_type": "execute_result"
    }
   ],
   "source": [
    "gammafunc(6)"
   ]
  },
  {
   "cell_type": "code",
   "execution_count": 3,
   "metadata": {},
   "outputs": [
    {
     "data": {
      "text/plain": [
       "120"
      ]
     },
     "execution_count": 3,
     "metadata": {},
     "output_type": "execute_result"
    }
   ],
   "source": [
    "import math\n",
    "math.factorial(5)  "
   ]
  },
  {
   "cell_type": "code",
   "execution_count": 4,
   "metadata": {},
   "outputs": [],
   "source": [
    "#위의 수식으로 감마함수는 (n-1)!라는 것을 체감할 수 있다."
   ]
  },
  {
   "cell_type": "code",
   "execution_count": 5,
   "metadata": {},
   "outputs": [
    {
     "name": "stderr",
     "output_type": "stream",
     "text": [
      "C:\\Users\\LG\\anaconda3\\lib\\site-packages\\ipykernel_launcher.py:14: IntegrationWarning: Extremely bad integrand behavior occurs at some points of the\n",
      "  integration interval.\n",
      "  \n"
     ]
    }
   ],
   "source": [
    "for idx in range(num_dot+1):\n",
    "\tn.append(dn*idx+a)\n",
    "\tgam.append(gammafunc(dn*idx+a)[0])"
   ]
  },
  {
   "cell_type": "code",
   "execution_count": 6,
   "metadata": {},
   "outputs": [
    {
     "data": {
      "text/plain": [
       "<matplotlib.legend.Legend at 0x1f892e37188>"
      ]
     },
     "execution_count": 6,
     "metadata": {},
     "output_type": "execute_result"
    },
    {
     "data": {
      "image/png": "[encoded data removed]",
      "text/plain": [
       "<Figure size 720x360 with 1 Axes>"
      ]
     },
     "metadata": {
      "needs_background": "light"
     },
     "output_type": "display_data"
    }
   ],
   "source": [
    "factorial=[]\n",
    "x=0\n",
    "for x in range(10):\n",
    "    factorial.append(math.factorial(x))\n",
    "n1=[]\n",
    "x=1\n",
    "for x in range(10):\n",
    "    n1.append(x+1)\n",
    "plt.figure(figsize=(10, 5))\n",
    "plt.plot(n, gam, label='Gamma function')\n",
    "plt.plot(n1, factorial,'o', label='(n-1)factorial function')\n",
    "plt.title(\"Gamma-n and factorial graph\", fontsize='x-large')\n",
    "plt.xlabel(\"n\", fontsize='x-large')\n",
    "plt.legend(fontsize='large')\n"
   ]
  },
  {
   "cell_type": "code",
   "execution_count": 7,
   "metadata": {},
   "outputs": [
    {
     "data": {
      "text/plain": [
       "([1, 2, 3, 4, 5, 6, 7, 8, 9, 10],\n",
       " [1, 1, 2, 6, 24, 120, 720, 5040, 40320, 362880])"
      ]
     },
     "execution_count": 7,
     "metadata": {},
     "output_type": "execute_result"
    }
   ],
   "source": [
    "n1,factorial #gammafunction=(n-1)! 이기 때문에, factorial 함수도 n-1로 맞추었다."
   ]
  },
  {
   "cell_type": "code",
   "execution_count": null,
   "metadata": {},
   "outputs": [],
   "source": []
  }
 ],
 "metadata": {
  "kernelspec": {
   "display_name": "Python 3",
   "language": "python",
   "name": "python3"
  },
  "language_info": {
   "codemirror_mode": {
    "name": "ipython",
    "version": 3
   },
   "file_extension": ".py",
   "mimetype": "text/x-python",
   "name": "python",
   "nbconvert_exporter": "python",
   "pygments_lexer": "ipython3",
   "version": "3.7.6"
  }
 },
 "nbformat": 4,
 "nbformat_minor": 4
}
